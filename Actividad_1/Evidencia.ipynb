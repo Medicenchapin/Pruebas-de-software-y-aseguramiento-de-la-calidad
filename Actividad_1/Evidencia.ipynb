{
 "cells": [
  {
   "cell_type": "markdown",
   "metadata": {},
   "source": [
    "### Master of Applied Artificial Intelligence\n",
    "\n",
    "**Course: TC4017 - Pruebas de software y aseguramiento de la calidad**\n",
    "\n",
    "<img src=\"./../Assets/logo.png\" alt=\"Image Alt Text\" width=\"500\"/>\n",
    "\n",
    "\n",
    "**PEP-8**\n",
    "\n",
    "Tutor: Gerardo Padilla Zarate\n",
    "\n",
    "Ignacio Jose Aguilar Garcia - A00819762\n",
    "\n"
   ]
  },
  {
   "cell_type": "markdown",
   "metadata": {},
   "source": [
    "### 1. Compute Statistics"
   ]
  },
  {
   "cell_type": "code",
   "execution_count": null,
   "metadata": {},
   "outputs": [],
   "source": []
  },
  {
   "cell_type": "markdown",
   "metadata": {},
   "source": [
    "### 2. Converter"
   ]
  },
  {
   "cell_type": "markdown",
   "metadata": {},
   "source": [
    "### 3. Count Words"
   ]
  }
 ],
 "metadata": {
  "kernelspec": {
   "display_name": ".venv",
   "language": "python",
   "name": "python3"
  },
  "language_info": {
   "name": "python",
   "version": "3.12.6"
  }
 },
 "nbformat": 4,
 "nbformat_minor": 2
}
